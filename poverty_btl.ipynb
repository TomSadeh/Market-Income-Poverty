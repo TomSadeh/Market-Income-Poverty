{
 "cells": [
  {
   "cell_type": "markdown",
   "metadata": {},
   "source": [
    "<h1>Market Income Poverty<h1>\n",
    "    <h2>In this script we try to replicate the market income poverty ratio of the National Insurance Institute.<h2>"
   ]
  },
  {
   "cell_type": "markdown",
   "metadata": {},
   "source": [
    "Importing the required libraries."
   ]
  },
  {
   "cell_type": "code",
   "execution_count": 10,
   "metadata": {},
   "outputs": [],
   "source": [
    "import pandas as pd\n",
    "import numpy as np"
   ]
  },
  {
   "cell_type": "markdown",
   "metadata": {},
   "source": [
    "A function that calculates the weighted median of a given series of values and weights."
   ]
  },
  {
   "cell_type": "code",
   "execution_count": 11,
   "metadata": {},
   "outputs": [],
   "source": [
    "def weighted_median(data, weights, interpolate = True):\n",
    "    \"\"\"\n",
    "    A function that calculates the weighted median of a given series of values \n",
    "    by using a series of weights.\n",
    "    \n",
    "    Parameters\n",
    "    ----------\n",
    "    data : Iterable\n",
    "        The data which the function calculates the median for.\n",
    "    weights : Iterable\n",
    "        The weights the function uses to calculate an weighted median.\n",
    "\n",
    "    Returns\n",
    "    -------\n",
    "    numpy.float64\n",
    "        The function return the weighted median.\n",
    "        \n",
    "    Required libraries\n",
    "    ---------\n",
    "    Numpy (import as np).\n",
    "    \"\"\"\n",
    "    #Forcing the data to a numpy array.\n",
    "    data = np.array(data)\n",
    "    weights = np.array(weights)\n",
    "    \n",
    "    #Sorting the data and the weights.\n",
    "    ind_sorted = np.argsort(data)\n",
    "    sorted_data = data[ind_sorted]\n",
    "    sorted_weights = weights[ind_sorted]\n",
    "   \n",
    "    #Calculating the cumulative sum of the weights.\n",
    "    sn = np.cumsum(sorted_weights)\n",
    "    \n",
    "    #Calculating the threshold.\n",
    "    threshold = sorted_weights.sum()/2\n",
    "    \n",
    "    #Returning the first value that equals or larger than the threshold.\n",
    "    if interpolate == False:\n",
    "        return sorted_data[sn >= threshold][0]\n",
    "    \n",
    "    #Else interpolating the median and returning it.\n",
    "    else:\n",
    "        return np.interp(0.5, (sn - 0.5 * sorted_weights) / np.sum(sorted_weights), sorted_data)\n",
    "    "
   ]
  },
  {
   "cell_type": "markdown",
   "metadata": {},
   "source": [
    "Replace the k-data address here."
   ]
  },
  {
   "cell_type": "code",
   "execution_count": 12,
   "metadata": {},
   "outputs": [],
   "source": [
    "address = r'C:\\Users\\dtsj8\\Google Drive (tsadeh@kohelet.org.il)\\k_data\\CBS Households Expenditures Survey\\famexp_'"
   ]
  },
  {
   "cell_type": "markdown",
   "metadata": {},
   "source": [
    "The file names of the relevant surveys."
   ]
  },
  {
   "cell_type": "code",
   "execution_count": 13,
   "metadata": {},
   "outputs": [],
   "source": [
    "file_names = ['H20171021datamb.csv','H20181021datamb.csv']\n",
    "years = [2017,2018]"
   ]
  },
  {
   "cell_type": "markdown",
   "metadata": {},
   "source": [
    "Creating an empty DataFrame to contain the results."
   ]
  },
  {
   "cell_type": "code",
   "execution_count": 14,
   "metadata": {},
   "outputs": [],
   "source": [
    "results = pd.DataFrame()"
   ]
  },
  {
   "cell_type": "markdown",
   "metadata": {},
   "source": [
    "The main loop, with notes detailing each line of code."
   ]
  },
  {
   "cell_type": "code",
   "execution_count": 15,
   "metadata": {},
   "outputs": [],
   "source": [
    "for year, file in zip(years, file_names):\n",
    "    #Reading the relevant file and saving it to a DataFrame.\n",
    "    df = pd.read_csv(address + str(year) +'\\\\'+ file)\n",
    "    \n",
    "    #Calculating income per standard person by dividing the net income of the household by the number of standard person in each household.\n",
    "    df['income_per_standardised_capita'] = df['net'] / df['nefeshstandartit']\n",
    "    \n",
    "    #Calculating the market income of households by summing the income from work, capital and pensions in each household. \n",
    "    #Gives the same results as substracting the income from allowances and assistance from the gross income of the household.\n",
    "    df['market_income'] = df['i11'] + df['i12'] + df['i13']\n",
    "    \n",
    "    #Calculating the market income per standard person of households by dividng the market income of the household by the number of standard persons in each household.\n",
    "    df['market_income_per_standardised_capita'] = df['market_income'] / df['nefeshstandartit']\n",
    "    \n",
    "    #Calculating household income without work income.\n",
    "    df['no_work_income'] = df['i12'] + df['i13'] + df['i14']\n",
    "    \n",
    "    #Calculating household income without work income per standard person, by dividing the no work income by the number of standard persons in each household.\n",
    "    df['no_work_income_per_standardised_capita'] = df['no_work_income'] / df['nefeshstandartit']\n",
    "    \n",
    "    #Calculating the total persons each household represent in the general population, by multiplying the number of persons in each household by its weight.\n",
    "    df['total_persons'] = df['nefashot'] * df['weight']\n",
    "    \n",
    "    #Calculating the poverty line as half the median net income per standard person.\n",
    "    poverty_line = weighted_median(df['income_per_standardised_capita'], df['weight'], interpolate = False) / 2\n",
    "    \n",
    "    #Calculating the standard poverty ratio of households, by dividing the number of households that their net income per standard person is below the poverty line, by the total number of households.\n",
    "    results.loc[year, 'standard_poverty_households'] =  df[df['income_per_standardised_capita'] <= poverty_line]['weight'].sum() / df['weight'].sum()\n",
    "    \n",
    "    #Calculating the market income poverty ratio of households, by dividing the number of households that their market income per standard person is below the poverty line, by the total number of households.\n",
    "    results.loc[year, 'market_income_below_line_households'] = df[df['market_income_per_standardised_capita'] <= poverty_line]['weight'].sum() / df['weight'].sum()\n",
    "    \n",
    "    #Calculating the no work income poverty ratio of households, by dividing the number of households that their income without work per standard person is below the poverty line, by the total number of households.\n",
    "    results.loc[year, 'no_work_below_line_households'] = df[df['no_work_income_per_standardised_capita'] <= poverty_line]['weight'].sum() / df['weight'].sum()\n",
    "    \n",
    "    #The same calculations but with persons and not households.\n",
    "    results.loc[year, 'standard_poverty_persons'] =  df[df['income_per_standardised_capita'] <= poverty_line]['total_persons'].sum() / df['total_persons'].sum()\n",
    "    results.loc[year, 'market_income_below_line_persons'] = df[df['market_income_per_standardised_capita'] <= poverty_line]['total_persons'].sum() / df['total_persons'].sum()\n",
    "    results.loc[year, 'no_work_below_line_persons'] = df[df['no_work_income_per_standardised_capita'] <= poverty_line]['total_persons'].sum() / df['total_persons'].sum()\n",
    "\n"
   ]
  },
  {
   "cell_type": "markdown",
   "metadata": {},
   "source": [
    "The address to export the results to. Don't erase the 'r'. "
   ]
  },
  {
   "cell_type": "code",
   "execution_count": 16,
   "metadata": {},
   "outputs": [],
   "source": [
    "address_results = r'C:\\Users\\dtsj8\\OneDrive\\Documents\\Work'"
   ]
  },
  {
   "cell_type": "markdown",
   "metadata": {},
   "source": [
    "Exporting the results."
   ]
  },
  {
   "cell_type": "code",
   "execution_count": 17,
   "metadata": {},
   "outputs": [],
   "source": [
    "results.to_csv(address_results + '\\\\results_poverty_market_income.csv')"
   ]
  },
  {
   "cell_type": "markdown",
   "metadata": {},
   "source": [
    "The NII results in 2017 are: <br>\n",
    "28.4% market income poverty of households. Ours is 27.98%. <br>\n",
    "28.0% market income poverty of individuals. Ours is 27.76%. \n",
    "\n",
    "The NII results in 2018 are: <br>\n",
    "27.8% market income poverty of households. Ours is 27.28%. <br>\n",
    "28.0% market income poverty of individuals. Ours is 27.57%. <br>\n",
    "\n",
    "<a href=\"https://www.btl.gov.il/Publications/oni_report/Documents/oni2018.pdf\">Source</a>"
   ]
  },
  {
   "cell_type": "markdown",
   "metadata": {},
   "source": [
    "In 2018, NII results for market income per household are 18,768 NIS.\n",
    "According to the CBS, it's 18,857 NIS (21,063 - 2,206).\n",
    "\n",
    "<a href=\"https://www.cbs.gov.il/he/publications/doclib/2020/1802_households_2018/t02.pdf\">Source</a>"
   ]
  }
 ],
 "metadata": {
  "kernelspec": {
   "display_name": "Python 3",
   "language": "python",
   "name": "python3"
  },
  "language_info": {
   "codemirror_mode": {
    "name": "ipython",
    "version": 3
   },
   "file_extension": ".py",
   "mimetype": "text/x-python",
   "name": "python",
   "nbconvert_exporter": "python",
   "pygments_lexer": "ipython3",
   "version": "3.8.3"
  }
 },
 "nbformat": 4,
 "nbformat_minor": 4
}
